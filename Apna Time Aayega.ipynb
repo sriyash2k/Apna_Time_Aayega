{
 "cells": [
  {
   "cell_type": "code",
   "execution_count": null,
   "metadata": {},
   "outputs": [],
   "source": [
    "import numpy as np"
   ]
  },
  {
   "cell_type": "code",
   "execution_count": null,
   "metadata": {},
   "outputs": [],
   "source": [
    "def generateTable(data,k):\n",
    "    T={} \n",
    "    for i in range(len(data)-k): \n",
    "        x=data[i:i+k]\n",
    "        y=data[i+k] \n",
    "        if T.get(x) is None: \n",
    "            T[x]={}\n",
    "            T[x][y]=1\n",
    "        else:\n",
    "            if T[x].get(y) is None: \n",
    "                T[x][y]=1\n",
    "            else:\n",
    "                T[x][y]+=1\n",
    "    return T"
   ]
  },
  {
   "cell_type": "code",
   "execution_count": null,
   "metadata": {},
   "outputs": [],
   "source": [
    "def convertFreqIntoProb(T): \n",
    "    for kx in T.keys(): \n",
    "        s=float(sum(T[kx].values()))\n",
    "        for k in T[kx].keys():\n",
    "            T[kx][k]/=s\n",
    "    return T"
   ]
  },
  {
   "cell_type": "code",
   "execution_count": null,
   "metadata": {},
   "outputs": [],
   "source": [
    "def load_text(filename):\n",
    "    with open(filename,encoding='utf8') as f: \n",
    "        return f.read().lower()  "
   ]
  },
  {
   "cell_type": "code",
   "execution_count": null,
   "metadata": {},
   "outputs": [],
   "source": [
    "text_path=\"/home/srinivasan/Downloads/Apna Time Aayega.txt\"\n",
    "text=load_text(text_path)"
   ]
  },
  {
   "cell_type": "code",
   "execution_count": null,
   "metadata": {},
   "outputs": [],
   "source": [
    "def trainMarkovChain(text,k):\n",
    "    T=generateTable(text,k)\n",
    "    T=convertFreqIntoProb(T)\n",
    "    return T"
   ]
  },
  {
   "cell_type": "code",
   "execution_count": null,
   "metadata": {},
   "outputs": [],
   "source": [
    "model=trainMarkovChain(text,4)"
   ]
  },
  {
   "cell_type": "code",
   "execution_count": null,
   "metadata": {},
   "outputs": [],
   "source": [
    "def sample_next(ctx,T,k):\n",
    "    ctx=ctx[-k:]\n",
    "    if T.get(ctx) is None:\n",
    "        return \" \"\n",
    "    possible_Chars=list(T[ctx].keys())\n",
    "    possible_values=list(T[ctx].values())\n",
    "    return np.random.choice(possible_Chars,p=possible_values)"
   ]
  },
  {
   "cell_type": "code",
   "execution_count": null,
   "metadata": {},
   "outputs": [],
   "source": [
    "def generateText(starting_sent,k,maxLen):\n",
    "    sentence=starting_sent \n",
    "    ctx=starting_sent[-k:]\n",
    "    for ix in range(maxLen):\n",
    "        next_prediction=sample_next(ctx,model,k)\n",
    "        sentence+=next_prediction\n",
    "        ctx=sentence[-k:]\n",
    "    return sentence"
   ]
  },
  {
   "cell_type": "code",
   "execution_count": null,
   "metadata": {},
   "outputs": [],
   "source": [
    "text=generateText(\"apna\",4,maxLen=10000)"
   ]
  },
  {
   "cell_type": "code",
   "execution_count": null,
   "metadata": {},
   "outputs": [],
   "source": [
    "print(text)"
   ]
  }
 ],
 "metadata": {
  "kernelspec": {
   "display_name": "Python 3",
   "language": "python",
   "name": "python3"
  },
  "language_info": {
   "codemirror_mode": {
    "name": "ipython",
    "version": 3
   },
   "file_extension": ".py",
   "mimetype": "text/x-python",
   "name": "python",
   "nbconvert_exporter": "python",
   "pygments_lexer": "ipython3",
   "version": "3.6.9"
  }
 },
 "nbformat": 4,
 "nbformat_minor": 4
}
